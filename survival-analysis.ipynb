{
 "cells": [
  {
   "cell_type": "markdown",
   "metadata": {},
   "source": [
    "# Survival analysis "
   ]
  },
  {
   "cell_type": "code",
   "execution_count": 45,
   "metadata": {},
   "outputs": [],
   "source": [
    "#for maths\n",
    "import numpy as np\n",
    "#for data manipulation\n",
    "import pandas as pd\n",
    "\n",
    "#for dataviz \n",
    "from matplotlib import pyplot as plt "
   ]
  },
  {
   "cell_type": "markdown",
   "metadata": {},
   "source": [
    "### Lifelines library \n",
    "Python library for survival analysis studies "
   ]
  },
  {
   "cell_type": "code",
   "execution_count": 2,
   "metadata": {},
   "outputs": [],
   "source": [
    "#pip install lifelines "
   ]
  },
  {
   "cell_type": "markdown",
   "metadata": {},
   "source": [
    "## Schoenfeld residuals : \n",
    "method to check cox model assumptions : \n",
    "  - common baseline hazard \n",
    "  - covariant X invariant over time \n",
    "  - beta coefficients invariant over time \n"
   ]
  },
  {
   "cell_type": "markdown",
   "metadata": {},
   "source": [
    "we will use a stanford heart transplant dataset to demonstrate it "
   ]
  },
  {
   "cell_type": "code",
   "execution_count": 3,
   "metadata": {},
   "outputs": [
    {
     "data": {
      "text/html": [
       "<div>\n",
       "<style scoped>\n",
       "    .dataframe tbody tr th:only-of-type {\n",
       "        vertical-align: middle;\n",
       "    }\n",
       "\n",
       "    .dataframe tbody tr th {\n",
       "        vertical-align: top;\n",
       "    }\n",
       "\n",
       "    .dataframe thead th {\n",
       "        text-align: right;\n",
       "    }\n",
       "</style>\n",
       "<table border=\"1\" class=\"dataframe\">\n",
       "  <thead>\n",
       "    <tr style=\"text-align: right;\">\n",
       "      <th></th>\n",
       "      <th>PATIENT_ID</th>\n",
       "      <th>YR_OF_ACCEPTANCE</th>\n",
       "      <th>AGE</th>\n",
       "      <th>SURVIVAL_STATUS</th>\n",
       "      <th>SURVIVAL_TIME</th>\n",
       "      <th>PRIOR_SURGERY</th>\n",
       "      <th>TRANSPLANT_STATUS</th>\n",
       "      <th>WAITING_TIME_FOR_TRANSPLANT</th>\n",
       "      <th>MISMATCH_ON_ALLELES</th>\n",
       "      <th>MISMATCH_ON_ANTIGEN</th>\n",
       "      <th>MISMATCH_SCORE</th>\n",
       "    </tr>\n",
       "  </thead>\n",
       "  <tbody>\n",
       "    <tr>\n",
       "      <th>80</th>\n",
       "      <td>78</td>\n",
       "      <td>72</td>\n",
       "      <td>48</td>\n",
       "      <td>0</td>\n",
       "      <td>515</td>\n",
       "      <td>0</td>\n",
       "      <td>1</td>\n",
       "      <td>210.0</td>\n",
       "      <td>3.0</td>\n",
       "      <td>0.0</td>\n",
       "      <td>0.81</td>\n",
       "    </tr>\n",
       "    <tr>\n",
       "      <th>95</th>\n",
       "      <td>49</td>\n",
       "      <td>71</td>\n",
       "      <td>36</td>\n",
       "      <td>0</td>\n",
       "      <td>1141</td>\n",
       "      <td>1</td>\n",
       "      <td>1</td>\n",
       "      <td>36.0</td>\n",
       "      <td>4.0</td>\n",
       "      <td>0.0</td>\n",
       "      <td>1.35</td>\n",
       "    </tr>\n",
       "    <tr>\n",
       "      <th>76</th>\n",
       "      <td>86</td>\n",
       "      <td>73</td>\n",
       "      <td>48</td>\n",
       "      <td>0</td>\n",
       "      <td>397</td>\n",
       "      <td>0</td>\n",
       "      <td>1</td>\n",
       "      <td>8.0</td>\n",
       "      <td>3.0</td>\n",
       "      <td>1.0</td>\n",
       "      <td>1.44</td>\n",
       "    </tr>\n",
       "    <tr>\n",
       "      <th>43</th>\n",
       "      <td>62</td>\n",
       "      <td>71</td>\n",
       "      <td>39</td>\n",
       "      <td>1</td>\n",
       "      <td>69</td>\n",
       "      <td>0</td>\n",
       "      <td>0</td>\n",
       "      <td>NaN</td>\n",
       "      <td>NaN</td>\n",
       "      <td>NaN</td>\n",
       "      <td>NaN</td>\n",
       "    </tr>\n",
       "    <tr>\n",
       "      <th>50</th>\n",
       "      <td>9</td>\n",
       "      <td>68</td>\n",
       "      <td>47</td>\n",
       "      <td>1</td>\n",
       "      <td>85</td>\n",
       "      <td>0</td>\n",
       "      <td>0</td>\n",
       "      <td>NaN</td>\n",
       "      <td>NaN</td>\n",
       "      <td>NaN</td>\n",
       "      <td>NaN</td>\n",
       "    </tr>\n",
       "  </tbody>\n",
       "</table>\n",
       "</div>"
      ],
      "text/plain": [
       "    PATIENT_ID  YR_OF_ACCEPTANCE  AGE  SURVIVAL_STATUS  SURVIVAL_TIME  \\\n",
       "80          78                72   48                0            515   \n",
       "95          49                71   36                0           1141   \n",
       "76          86                73   48                0            397   \n",
       "43          62                71   39                1             69   \n",
       "50           9                68   47                1             85   \n",
       "\n",
       "    PRIOR_SURGERY  TRANSPLANT_STATUS  WAITING_TIME_FOR_TRANSPLANT  \\\n",
       "80              0                  1                        210.0   \n",
       "95              1                  1                         36.0   \n",
       "76              0                  1                          8.0   \n",
       "43              0                  0                          NaN   \n",
       "50              0                  0                          NaN   \n",
       "\n",
       "    MISMATCH_ON_ALLELES  MISMATCH_ON_ANTIGEN  MISMATCH_SCORE  \n",
       "80                  3.0                  0.0            0.81  \n",
       "95                  4.0                  0.0            1.35  \n",
       "76                  3.0                  1.0            1.44  \n",
       "43                  NaN                  NaN             NaN  \n",
       "50                  NaN                  NaN             NaN  "
      ]
     },
     "execution_count": 3,
     "metadata": {},
     "output_type": "execute_result"
    }
   ],
   "source": [
    "stanford_data = pd.read_csv(\"stanford_heart_transplant_dataset_full.csv\")\n",
    "stanford_data.sample(5)"
   ]
  },
  {
   "cell_type": "code",
   "execution_count": 4,
   "metadata": {},
   "outputs": [
    {
     "data": {
      "text/plain": [
       "Index(['PATIENT_ID', 'YR_OF_ACCEPTANCE', 'AGE', 'SURVIVAL_STATUS',\n",
       "       'SURVIVAL_TIME', 'PRIOR_SURGERY', 'TRANSPLANT_STATUS',\n",
       "       'WAITING_TIME_FOR_TRANSPLANT', 'MISMATCH_ON_ALLELES',\n",
       "       'MISMATCH_ON_ANTIGEN', 'MISMATCH_SCORE'],\n",
       "      dtype='object')"
      ]
     },
     "execution_count": 4,
     "metadata": {},
     "output_type": "execute_result"
    }
   ],
   "source": [
    "stanford_data.columns"
   ]
  },
  {
   "cell_type": "markdown",
   "metadata": {},
   "source": [
    "### lets consider our variables : \n",
    "  - Response variables (y) : SURVIVAL_TIME and SURVIVAL_STATUS\n",
    "  - Regression matrix variables (X) : AGE , PRIOR_SURGERY (patient received an open heart surgery before ? ), TRANSPLANT_STATUS (whether patient received transplant during study)\n",
    "  "
   ]
  },
  {
   "cell_type": "markdown",
   "metadata": {},
   "source": [
    "lets get these columns as our needed dataframe "
   ]
  },
  {
   "cell_type": "code",
   "execution_count": 5,
   "metadata": {},
   "outputs": [
    {
     "data": {
      "text/html": [
       "<div>\n",
       "<style scoped>\n",
       "    .dataframe tbody tr th:only-of-type {\n",
       "        vertical-align: middle;\n",
       "    }\n",
       "\n",
       "    .dataframe tbody tr th {\n",
       "        vertical-align: top;\n",
       "    }\n",
       "\n",
       "    .dataframe thead th {\n",
       "        text-align: right;\n",
       "    }\n",
       "</style>\n",
       "<table border=\"1\" class=\"dataframe\">\n",
       "  <thead>\n",
       "    <tr style=\"text-align: right;\">\n",
       "      <th></th>\n",
       "      <th>AGE</th>\n",
       "      <th>PRIOR_SURGERY</th>\n",
       "      <th>TRANSPLANT_STATUS</th>\n",
       "      <th>SURVIVAL_TIME</th>\n",
       "      <th>SURVIVAL_STATUS</th>\n",
       "    </tr>\n",
       "  </thead>\n",
       "  <tbody>\n",
       "    <tr>\n",
       "      <th>0</th>\n",
       "      <td>53</td>\n",
       "      <td>0</td>\n",
       "      <td>0</td>\n",
       "      <td>1</td>\n",
       "      <td>1</td>\n",
       "    </tr>\n",
       "    <tr>\n",
       "      <th>1</th>\n",
       "      <td>43</td>\n",
       "      <td>0</td>\n",
       "      <td>0</td>\n",
       "      <td>2</td>\n",
       "      <td>1</td>\n",
       "    </tr>\n",
       "    <tr>\n",
       "      <th>2</th>\n",
       "      <td>52</td>\n",
       "      <td>0</td>\n",
       "      <td>0</td>\n",
       "      <td>2</td>\n",
       "      <td>1</td>\n",
       "    </tr>\n",
       "    <tr>\n",
       "      <th>3</th>\n",
       "      <td>52</td>\n",
       "      <td>0</td>\n",
       "      <td>0</td>\n",
       "      <td>2</td>\n",
       "      <td>1</td>\n",
       "    </tr>\n",
       "    <tr>\n",
       "      <th>4</th>\n",
       "      <td>54</td>\n",
       "      <td>0</td>\n",
       "      <td>0</td>\n",
       "      <td>3</td>\n",
       "      <td>1</td>\n",
       "    </tr>\n",
       "  </tbody>\n",
       "</table>\n",
       "</div>"
      ],
      "text/plain": [
       "   AGE  PRIOR_SURGERY  TRANSPLANT_STATUS  SURVIVAL_TIME  SURVIVAL_STATUS\n",
       "0   53              0                  0              1                1\n",
       "1   43              0                  0              2                1\n",
       "2   52              0                  0              2                1\n",
       "3   52              0                  0              2                1\n",
       "4   54              0                  0              3                1"
      ]
     },
     "execution_count": 5,
     "metadata": {},
     "output_type": "execute_result"
    }
   ],
   "source": [
    "study_df = stanford_data[['AGE', 'PRIOR_SURGERY', 'TRANSPLANT_STATUS', 'SURVIVAL_TIME','SURVIVAL_STATUS']].copy()\n",
    "study_df.head()"
   ]
  },
  {
   "cell_type": "markdown",
   "metadata": {},
   "source": [
    "### Import the COX PH fitter from the lifelines library"
   ]
  },
  {
   "cell_type": "code",
   "execution_count": 6,
   "metadata": {},
   "outputs": [],
   "source": [
    "from lifelines import CoxPHFitter"
   ]
  },
  {
   "cell_type": "markdown",
   "metadata": {},
   "source": [
    "Create and train the Cox Model on our training set "
   ]
  },
  {
   "cell_type": "code",
   "execution_count": 7,
   "metadata": {},
   "outputs": [
    {
     "data": {
      "text/plain": [
       "<lifelines.CoxPHFitter: fitted with 103 total observations, 28 right-censored observations>"
      ]
     },
     "execution_count": 7,
     "metadata": {},
     "output_type": "execute_result"
    }
   ],
   "source": [
    "#create the coxphfitter\n",
    "mycph_model = CoxPHFitter()\n",
    "\n",
    "#fit it to our training set \n",
    "mycph_model.fit(df = study_df, duration_col = 'SURVIVAL_TIME' ,\n",
    "event_col = 'SURVIVAL_STATUS')\n"
   ]
  },
  {
   "cell_type": "markdown",
   "metadata": {},
   "source": [
    "lets display the model summary"
   ]
  },
  {
   "cell_type": "code",
   "execution_count": 8,
   "metadata": {},
   "outputs": [
    {
     "data": {
      "text/html": [
       "<div>\n",
       "<style scoped>\n",
       "    .dataframe tbody tr th:only-of-type {\n",
       "        vertical-align: middle;\n",
       "    }\n",
       "\n",
       "    .dataframe tbody tr th {\n",
       "        vertical-align: top;\n",
       "    }\n",
       "\n",
       "    .dataframe thead th {\n",
       "        text-align: right;\n",
       "    }\n",
       "</style>\n",
       "<table border=\"1\" class=\"dataframe\">\n",
       "  <tbody>\n",
       "    <tr>\n",
       "      <th>model</th>\n",
       "      <td>lifelines.CoxPHFitter</td>\n",
       "    </tr>\n",
       "    <tr>\n",
       "      <th>duration col</th>\n",
       "      <td>'SURVIVAL_TIME'</td>\n",
       "    </tr>\n",
       "    <tr>\n",
       "      <th>event col</th>\n",
       "      <td>'SURVIVAL_STATUS'</td>\n",
       "    </tr>\n",
       "    <tr>\n",
       "      <th>baseline estimation</th>\n",
       "      <td>breslow</td>\n",
       "    </tr>\n",
       "    <tr>\n",
       "      <th>number of observations</th>\n",
       "      <td>103</td>\n",
       "    </tr>\n",
       "    <tr>\n",
       "      <th>number of events observed</th>\n",
       "      <td>75</td>\n",
       "    </tr>\n",
       "    <tr>\n",
       "      <th>partial log-likelihood</th>\n",
       "      <td>-274.18</td>\n",
       "    </tr>\n",
       "    <tr>\n",
       "      <th>time fit was run</th>\n",
       "      <td>2023-07-08 00:11:33 UTC</td>\n",
       "    </tr>\n",
       "  </tbody>\n",
       "</table>\n",
       "</div><table border=\"1\" class=\"dataframe\">\n",
       "  <thead>\n",
       "    <tr style=\"text-align: right;\">\n",
       "      <th style=\"min-width: 12px;\"></th>\n",
       "      <th style=\"min-width: 12px;\">coef</th>\n",
       "      <th style=\"min-width: 12px;\">exp(coef)</th>\n",
       "      <th style=\"min-width: 12px;\">se(coef)</th>\n",
       "      <th style=\"min-width: 12px;\">coef lower 95%</th>\n",
       "      <th style=\"min-width: 12px;\">coef upper 95%</th>\n",
       "      <th style=\"min-width: 12px;\">exp(coef) lower 95%</th>\n",
       "      <th style=\"min-width: 12px;\">exp(coef) upper 95%</th>\n",
       "      <th style=\"min-width: 12px;\">cmp to</th>\n",
       "      <th style=\"min-width: 12px;\">z</th>\n",
       "      <th style=\"min-width: 12px;\">p</th>\n",
       "      <th style=\"min-width: 12px;\">-log2(p)</th>\n",
       "    </tr>\n",
       "  </thead>\n",
       "  <tbody>\n",
       "    <tr>\n",
       "      <th>AGE</th>\n",
       "      <td>0.06</td>\n",
       "      <td>1.06</td>\n",
       "      <td>0.01</td>\n",
       "      <td>0.03</td>\n",
       "      <td>0.09</td>\n",
       "      <td>1.03</td>\n",
       "      <td>1.09</td>\n",
       "      <td>0.00</td>\n",
       "      <td>3.96</td>\n",
       "      <td>&lt;0.005</td>\n",
       "      <td>13.71</td>\n",
       "    </tr>\n",
       "    <tr>\n",
       "      <th>PRIOR_SURGERY</th>\n",
       "      <td>-0.74</td>\n",
       "      <td>0.48</td>\n",
       "      <td>0.44</td>\n",
       "      <td>-1.61</td>\n",
       "      <td>0.12</td>\n",
       "      <td>0.20</td>\n",
       "      <td>1.13</td>\n",
       "      <td>0.00</td>\n",
       "      <td>-1.68</td>\n",
       "      <td>0.09</td>\n",
       "      <td>3.43</td>\n",
       "    </tr>\n",
       "    <tr>\n",
       "      <th>TRANSPLANT_STATUS</th>\n",
       "      <td>-1.66</td>\n",
       "      <td>0.19</td>\n",
       "      <td>0.28</td>\n",
       "      <td>-2.20</td>\n",
       "      <td>-1.12</td>\n",
       "      <td>0.11</td>\n",
       "      <td>0.33</td>\n",
       "      <td>0.00</td>\n",
       "      <td>-6.02</td>\n",
       "      <td>&lt;0.005</td>\n",
       "      <td>29.11</td>\n",
       "    </tr>\n",
       "  </tbody>\n",
       "</table><br><div>\n",
       "<style scoped>\n",
       "    .dataframe tbody tr th:only-of-type {\n",
       "        vertical-align: middle;\n",
       "    }\n",
       "\n",
       "    .dataframe tbody tr th {\n",
       "        vertical-align: top;\n",
       "    }\n",
       "\n",
       "    .dataframe thead th {\n",
       "        text-align: right;\n",
       "    }\n",
       "</style>\n",
       "<table border=\"1\" class=\"dataframe\">\n",
       "  <tbody>\n",
       "    <tr>\n",
       "      <th>Concordance</th>\n",
       "      <td>0.74</td>\n",
       "    </tr>\n",
       "    <tr>\n",
       "      <th>Partial AIC</th>\n",
       "      <td>554.35</td>\n",
       "    </tr>\n",
       "    <tr>\n",
       "      <th>log-likelihood ratio test</th>\n",
       "      <td>47.89 on 3 df</td>\n",
       "    </tr>\n",
       "    <tr>\n",
       "      <th>-log2(p) of ll-ratio test</th>\n",
       "      <td>32.05</td>\n",
       "    </tr>\n",
       "  </tbody>\n",
       "</table>\n",
       "</div>"
      ],
      "text/latex": [
       "\\begin{tabular}{lrrrrrrrrrrr}\n",
       " & coef & exp(coef) & se(coef) & coef lower 95% & coef upper 95% & exp(coef) lower 95% & exp(coef) upper 95% & cmp to & z & p & -log2(p) \\\\\n",
       "covariate &  &  &  &  &  &  &  &  &  &  &  \\\\\n",
       "AGE & 0.06 & 1.06 & 0.01 & 0.03 & 0.09 & 1.03 & 1.09 & 0.00 & 3.96 & 0.00 & 13.71 \\\\\n",
       "PRIOR_SURGERY & -0.74 & 0.48 & 0.44 & -1.61 & 0.12 & 0.20 & 1.13 & 0.00 & -1.68 & 0.09 & 3.43 \\\\\n",
       "TRANSPLANT_STATUS & -1.66 & 0.19 & 0.28 & -2.20 & -1.12 & 0.11 & 0.33 & 0.00 & -6.02 & 0.00 & 29.11 \\\\\n",
       "\\end{tabular}\n"
      ],
      "text/plain": [
       "<lifelines.CoxPHFitter: fitted with 103 total observations, 28 right-censored observations>\n",
       "             duration col = 'SURVIVAL_TIME'\n",
       "                event col = 'SURVIVAL_STATUS'\n",
       "      baseline estimation = breslow\n",
       "   number of observations = 103\n",
       "number of events observed = 75\n",
       "   partial log-likelihood = -274.18\n",
       "         time fit was run = 2023-07-08 00:11:33 UTC\n",
       "\n",
       "---\n",
       "                    coef  exp(coef)   se(coef)   coef lower 95%   coef upper 95%  exp(coef) lower 95%  exp(coef) upper 95%\n",
       "covariate                                                                                                                 \n",
       "AGE                 0.06       1.06       0.01             0.03             0.09                 1.03                 1.09\n",
       "PRIOR_SURGERY      -0.74       0.48       0.44            -1.61             0.12                 0.20                 1.13\n",
       "TRANSPLANT_STATUS  -1.66       0.19       0.28            -2.20            -1.12                 0.11                 0.33\n",
       "\n",
       "                    cmp to     z      p   -log2(p)\n",
       "covariate                                         \n",
       "AGE                   0.00  3.96 <0.005      13.71\n",
       "PRIOR_SURGERY         0.00 -1.68   0.09       3.43\n",
       "TRANSPLANT_STATUS     0.00 -6.02 <0.005      29.11\n",
       "---\n",
       "Concordance = 0.74\n",
       "Partial AIC = 554.35\n",
       "log-likelihood ratio test = 47.89 on 3 df\n",
       "-log2(p) of ll-ratio test = 32.05"
      ]
     },
     "metadata": {},
     "output_type": "display_data"
    }
   ],
   "source": [
    "mycph_model.print_summary()"
   ]
  },
  {
   "cell_type": "markdown",
   "metadata": {},
   "source": [
    "Schoenfeld residuals are calculated for each regression variable separately "
   ]
  },
  {
   "cell_type": "markdown",
   "metadata": {},
   "source": [
    "lets start with the Age variable "
   ]
  },
  {
   "cell_type": "code",
   "execution_count": 17,
   "metadata": {},
   "outputs": [
    {
     "data": {
      "text/html": [
       "<div>\n",
       "<style scoped>\n",
       "    .dataframe tbody tr th:only-of-type {\n",
       "        vertical-align: middle;\n",
       "    }\n",
       "\n",
       "    .dataframe tbody tr th {\n",
       "        vertical-align: top;\n",
       "    }\n",
       "\n",
       "    .dataframe thead th {\n",
       "        text-align: right;\n",
       "    }\n",
       "</style>\n",
       "<table border=\"1\" class=\"dataframe\">\n",
       "  <thead>\n",
       "    <tr style=\"text-align: right;\">\n",
       "      <th></th>\n",
       "      <th>AGE</th>\n",
       "      <th>PRIOR_SURGERY</th>\n",
       "      <th>TRANSPLANT_STATUS</th>\n",
       "      <th>SURVIVAL_TIME</th>\n",
       "      <th>SURVIVAL_STATUS</th>\n",
       "    </tr>\n",
       "  </thead>\n",
       "  <tbody>\n",
       "    <tr>\n",
       "      <th>0</th>\n",
       "      <td>53</td>\n",
       "      <td>0</td>\n",
       "      <td>0</td>\n",
       "      <td>1</td>\n",
       "      <td>1</td>\n",
       "    </tr>\n",
       "    <tr>\n",
       "      <th>1</th>\n",
       "      <td>43</td>\n",
       "      <td>0</td>\n",
       "      <td>0</td>\n",
       "      <td>2</td>\n",
       "      <td>1</td>\n",
       "    </tr>\n",
       "    <tr>\n",
       "      <th>2</th>\n",
       "      <td>52</td>\n",
       "      <td>0</td>\n",
       "      <td>0</td>\n",
       "      <td>2</td>\n",
       "      <td>1</td>\n",
       "    </tr>\n",
       "    <tr>\n",
       "      <th>3</th>\n",
       "      <td>52</td>\n",
       "      <td>0</td>\n",
       "      <td>0</td>\n",
       "      <td>2</td>\n",
       "      <td>1</td>\n",
       "    </tr>\n",
       "    <tr>\n",
       "      <th>4</th>\n",
       "      <td>54</td>\n",
       "      <td>0</td>\n",
       "      <td>0</td>\n",
       "      <td>3</td>\n",
       "      <td>1</td>\n",
       "    </tr>\n",
       "    <tr>\n",
       "      <th>...</th>\n",
       "      <td>...</td>\n",
       "      <td>...</td>\n",
       "      <td>...</td>\n",
       "      <td>...</td>\n",
       "      <td>...</td>\n",
       "    </tr>\n",
       "    <tr>\n",
       "      <th>89</th>\n",
       "      <td>44</td>\n",
       "      <td>0</td>\n",
       "      <td>1</td>\n",
       "      <td>852</td>\n",
       "      <td>1</td>\n",
       "    </tr>\n",
       "    <tr>\n",
       "      <th>92</th>\n",
       "      <td>45</td>\n",
       "      <td>1</td>\n",
       "      <td>1</td>\n",
       "      <td>979</td>\n",
       "      <td>1</td>\n",
       "    </tr>\n",
       "    <tr>\n",
       "      <th>93</th>\n",
       "      <td>48</td>\n",
       "      <td>1</td>\n",
       "      <td>1</td>\n",
       "      <td>995</td>\n",
       "      <td>1</td>\n",
       "    </tr>\n",
       "    <tr>\n",
       "      <th>94</th>\n",
       "      <td>43</td>\n",
       "      <td>0</td>\n",
       "      <td>1</td>\n",
       "      <td>1032</td>\n",
       "      <td>1</td>\n",
       "    </tr>\n",
       "    <tr>\n",
       "      <th>97</th>\n",
       "      <td>53</td>\n",
       "      <td>0</td>\n",
       "      <td>1</td>\n",
       "      <td>1386</td>\n",
       "      <td>1</td>\n",
       "    </tr>\n",
       "  </tbody>\n",
       "</table>\n",
       "<p>75 rows × 5 columns</p>\n",
       "</div>"
      ],
      "text/plain": [
       "    AGE  PRIOR_SURGERY  TRANSPLANT_STATUS  SURVIVAL_TIME  SURVIVAL_STATUS\n",
       "0    53              0                  0              1                1\n",
       "1    43              0                  0              2                1\n",
       "2    52              0                  0              2                1\n",
       "3    52              0                  0              2                1\n",
       "4    54              0                  0              3                1\n",
       "..  ...            ...                ...            ...              ...\n",
       "89   44              0                  1            852                1\n",
       "92   45              1                  1            979                1\n",
       "93   48              1                  1            995                1\n",
       "94   43              0                  1           1032                1\n",
       "97   53              0                  1           1386                1\n",
       "\n",
       "[75 rows x 5 columns]"
      ]
     },
     "execution_count": 17,
     "metadata": {},
     "output_type": "execute_result"
    }
   ],
   "source": [
    "#status 1 -> dead\n",
    "study_df[study_df.SURVIVAL_STATUS == 1]"
   ]
  },
  {
   "cell_type": "code",
   "execution_count": 20,
   "metadata": {},
   "outputs": [
    {
     "data": {
      "text/html": [
       "<div>\n",
       "<style scoped>\n",
       "    .dataframe tbody tr th:only-of-type {\n",
       "        vertical-align: middle;\n",
       "    }\n",
       "\n",
       "    .dataframe tbody tr th {\n",
       "        vertical-align: top;\n",
       "    }\n",
       "\n",
       "    .dataframe thead th {\n",
       "        text-align: right;\n",
       "    }\n",
       "</style>\n",
       "<table border=\"1\" class=\"dataframe\">\n",
       "  <thead>\n",
       "    <tr style=\"text-align: right;\">\n",
       "      <th></th>\n",
       "      <th>AGE</th>\n",
       "      <th>PRIOR_SURGERY</th>\n",
       "      <th>TRANSPLANT_STATUS</th>\n",
       "      <th>SURVIVAL_TIME</th>\n",
       "      <th>SURVIVAL_STATUS</th>\n",
       "    </tr>\n",
       "  </thead>\n",
       "  <tbody>\n",
       "    <tr>\n",
       "      <th>0</th>\n",
       "      <td>53</td>\n",
       "      <td>0</td>\n",
       "      <td>0</td>\n",
       "      <td>1</td>\n",
       "      <td>1</td>\n",
       "    </tr>\n",
       "    <tr>\n",
       "      <th>1</th>\n",
       "      <td>43</td>\n",
       "      <td>0</td>\n",
       "      <td>0</td>\n",
       "      <td>2</td>\n",
       "      <td>1</td>\n",
       "    </tr>\n",
       "    <tr>\n",
       "      <th>2</th>\n",
       "      <td>52</td>\n",
       "      <td>0</td>\n",
       "      <td>0</td>\n",
       "      <td>2</td>\n",
       "      <td>1</td>\n",
       "    </tr>\n",
       "    <tr>\n",
       "      <th>3</th>\n",
       "      <td>52</td>\n",
       "      <td>0</td>\n",
       "      <td>0</td>\n",
       "      <td>2</td>\n",
       "      <td>1</td>\n",
       "    </tr>\n",
       "    <tr>\n",
       "      <th>4</th>\n",
       "      <td>54</td>\n",
       "      <td>0</td>\n",
       "      <td>0</td>\n",
       "      <td>3</td>\n",
       "      <td>1</td>\n",
       "    </tr>\n",
       "    <tr>\n",
       "      <th>5</th>\n",
       "      <td>36</td>\n",
       "      <td>0</td>\n",
       "      <td>0</td>\n",
       "      <td>3</td>\n",
       "      <td>1</td>\n",
       "    </tr>\n",
       "    <tr>\n",
       "      <th>6</th>\n",
       "      <td>47</td>\n",
       "      <td>0</td>\n",
       "      <td>0</td>\n",
       "      <td>3</td>\n",
       "      <td>1</td>\n",
       "    </tr>\n",
       "    <tr>\n",
       "      <th>7</th>\n",
       "      <td>41</td>\n",
       "      <td>0</td>\n",
       "      <td>1</td>\n",
       "      <td>5</td>\n",
       "      <td>1</td>\n",
       "    </tr>\n",
       "    <tr>\n",
       "      <th>8</th>\n",
       "      <td>47</td>\n",
       "      <td>0</td>\n",
       "      <td>0</td>\n",
       "      <td>5</td>\n",
       "      <td>1</td>\n",
       "    </tr>\n",
       "    <tr>\n",
       "      <th>9</th>\n",
       "      <td>51</td>\n",
       "      <td>0</td>\n",
       "      <td>0</td>\n",
       "      <td>6</td>\n",
       "      <td>1</td>\n",
       "    </tr>\n",
       "    <tr>\n",
       "      <th>10</th>\n",
       "      <td>39</td>\n",
       "      <td>0</td>\n",
       "      <td>0</td>\n",
       "      <td>6</td>\n",
       "      <td>1</td>\n",
       "    </tr>\n",
       "    <tr>\n",
       "      <th>11</th>\n",
       "      <td>53</td>\n",
       "      <td>0</td>\n",
       "      <td>0</td>\n",
       "      <td>8</td>\n",
       "      <td>1</td>\n",
       "    </tr>\n",
       "    <tr>\n",
       "      <th>12</th>\n",
       "      <td>56</td>\n",
       "      <td>0</td>\n",
       "      <td>0</td>\n",
       "      <td>9</td>\n",
       "      <td>1</td>\n",
       "    </tr>\n",
       "    <tr>\n",
       "      <th>13</th>\n",
       "      <td>40</td>\n",
       "      <td>0</td>\n",
       "      <td>0</td>\n",
       "      <td>11</td>\n",
       "      <td>0</td>\n",
       "    </tr>\n",
       "    <tr>\n",
       "      <th>14</th>\n",
       "      <td>43</td>\n",
       "      <td>0</td>\n",
       "      <td>0</td>\n",
       "      <td>12</td>\n",
       "      <td>1</td>\n",
       "    </tr>\n",
       "    <tr>\n",
       "      <th>15</th>\n",
       "      <td>40</td>\n",
       "      <td>0</td>\n",
       "      <td>1</td>\n",
       "      <td>16</td>\n",
       "      <td>1</td>\n",
       "    </tr>\n",
       "    <tr>\n",
       "      <th>16</th>\n",
       "      <td>54</td>\n",
       "      <td>0</td>\n",
       "      <td>0</td>\n",
       "      <td>16</td>\n",
       "      <td>1</td>\n",
       "    </tr>\n",
       "    <tr>\n",
       "      <th>17</th>\n",
       "      <td>54</td>\n",
       "      <td>0</td>\n",
       "      <td>1</td>\n",
       "      <td>16</td>\n",
       "      <td>1</td>\n",
       "    </tr>\n",
       "    <tr>\n",
       "      <th>18</th>\n",
       "      <td>29</td>\n",
       "      <td>0</td>\n",
       "      <td>1</td>\n",
       "      <td>17</td>\n",
       "      <td>1</td>\n",
       "    </tr>\n",
       "    <tr>\n",
       "      <th>19</th>\n",
       "      <td>20</td>\n",
       "      <td>0</td>\n",
       "      <td>0</td>\n",
       "      <td>18</td>\n",
       "      <td>1</td>\n",
       "    </tr>\n",
       "    <tr>\n",
       "      <th>20</th>\n",
       "      <td>41</td>\n",
       "      <td>0</td>\n",
       "      <td>0</td>\n",
       "      <td>21</td>\n",
       "      <td>1</td>\n",
       "    </tr>\n",
       "    <tr>\n",
       "      <th>21</th>\n",
       "      <td>49</td>\n",
       "      <td>0</td>\n",
       "      <td>0</td>\n",
       "      <td>21</td>\n",
       "      <td>1</td>\n",
       "    </tr>\n",
       "    <tr>\n",
       "      <th>22</th>\n",
       "      <td>55</td>\n",
       "      <td>0</td>\n",
       "      <td>1</td>\n",
       "      <td>28</td>\n",
       "      <td>1</td>\n",
       "    </tr>\n",
       "    <tr>\n",
       "      <th>23</th>\n",
       "      <td>52</td>\n",
       "      <td>0</td>\n",
       "      <td>1</td>\n",
       "      <td>30</td>\n",
       "      <td>1</td>\n",
       "    </tr>\n",
       "  </tbody>\n",
       "</table>\n",
       "</div>"
      ],
      "text/plain": [
       "    AGE  PRIOR_SURGERY  TRANSPLANT_STATUS  SURVIVAL_TIME  SURVIVAL_STATUS\n",
       "0    53              0                  0              1                1\n",
       "1    43              0                  0              2                1\n",
       "2    52              0                  0              2                1\n",
       "3    52              0                  0              2                1\n",
       "4    54              0                  0              3                1\n",
       "5    36              0                  0              3                1\n",
       "6    47              0                  0              3                1\n",
       "7    41              0                  1              5                1\n",
       "8    47              0                  0              5                1\n",
       "9    51              0                  0              6                1\n",
       "10   39              0                  0              6                1\n",
       "11   53              0                  0              8                1\n",
       "12   56              0                  0              9                1\n",
       "13   40              0                  0             11                0\n",
       "14   43              0                  0             12                1\n",
       "15   40              0                  1             16                1\n",
       "16   54              0                  0             16                1\n",
       "17   54              0                  1             16                1\n",
       "18   29              0                  1             17                1\n",
       "19   20              0                  0             18                1\n",
       "20   41              0                  0             21                1\n",
       "21   49              0                  0             21                1\n",
       "22   55              0                  1             28                1\n",
       "23   52              0                  1             30                1"
      ]
     },
     "execution_count": 20,
     "metadata": {},
     "output_type": "execute_result"
    }
   ],
   "source": [
    "study_df.head(24)"
   ]
  },
  {
   "cell_type": "markdown",
   "metadata": {},
   "source": [
    "lets focus on the first month after the beggining of our study , we notice a death of the 23rd patient on the 30th day "
   ]
  },
  {
   "cell_type": "markdown",
   "metadata": {},
   "source": [
    "lets get the at-risk column at T=30 to check our cox model assumptions"
   ]
  },
  {
   "cell_type": "code",
   "execution_count": 22,
   "metadata": {},
   "outputs": [],
   "source": [
    "#since its on the 23th line , every patient after is at an 'at risk' status \n",
    "X30 = np.array(study_df[['AGE', 'PRIOR_SURGERY', 'TRANSPLANT_STATUS']])[23:,]"
   ]
  },
  {
   "cell_type": "markdown",
   "metadata": {},
   "source": [
    "### At risk patients after a month of study"
   ]
  },
  {
   "cell_type": "code",
   "execution_count": 24,
   "metadata": {},
   "outputs": [
    {
     "data": {
      "text/plain": [
       "array([[52,  0,  1],\n",
       "       [49,  0,  0],\n",
       "       [53,  0,  0],\n",
       "       [50,  0,  0],\n",
       "       [20,  0,  0],\n",
       "       [59,  0,  0],\n",
       "       [40,  0,  1],\n",
       "       [35,  1,  1],\n",
       "       [45,  0,  0],\n",
       "       [42,  0,  0],\n",
       "       [56,  0,  1],\n",
       "       [36,  0,  1],\n",
       "       [30,  0,  0],\n",
       "       [42,  0,  1],\n",
       "       [50,  0,  1],\n",
       "       [42,  0,  1],\n",
       "       [52,  0,  1],\n",
       "       [61,  0,  1],\n",
       "       [45,  0,  1],\n",
       "       [49,  0,  1],\n",
       "       [39,  0,  0],\n",
       "       [53,  0,  1],\n",
       "       [47,  0,  1],\n",
       "       [64,  0,  1],\n",
       "       [51,  0,  1],\n",
       "       [53,  0,  1],\n",
       "       [54,  0,  1],\n",
       "       [47,  0,  0],\n",
       "       [56,  0,  1],\n",
       "       [53,  0,  1],\n",
       "       [48,  0,  1],\n",
       "       [41,  0,  0],\n",
       "       [28,  0,  1],\n",
       "       [46,  0,  1],\n",
       "       [23,  0,  1],\n",
       "       [41,  0,  0],\n",
       "       [47,  0,  1],\n",
       "       [43,  1,  1],\n",
       "       [26,  0,  1],\n",
       "       [52,  1,  1],\n",
       "       [47,  0,  1],\n",
       "       [51,  0,  1],\n",
       "       [51,  0,  1],\n",
       "       [ 8,  0,  0],\n",
       "       [47,  0,  1],\n",
       "       [48,  0,  1],\n",
       "       [19,  0,  1],\n",
       "       [49,  0,  1],\n",
       "       [42,  0,  1],\n",
       "       [47,  0,  0],\n",
       "       [44,  0,  1],\n",
       "       [47,  1,  1],\n",
       "       [54,  0,  1],\n",
       "       [48,  0,  1],\n",
       "       [29,  0,  0],\n",
       "       [52,  0,  1],\n",
       "       [46,  1,  1],\n",
       "       [48,  0,  1],\n",
       "       [52,  1,  1],\n",
       "       [48,  1,  1],\n",
       "       [26,  0,  1],\n",
       "       [47,  0,  1],\n",
       "       [47,  0,  1],\n",
       "       [50,  0,  1],\n",
       "       [58,  0,  1],\n",
       "       [32,  0,  1],\n",
       "       [44,  0,  1],\n",
       "       [41,  0,  1],\n",
       "       [38,  0,  1],\n",
       "       [45,  1,  1],\n",
       "       [48,  1,  1],\n",
       "       [43,  0,  1],\n",
       "       [36,  1,  1],\n",
       "       [45,  1,  1],\n",
       "       [53,  0,  1],\n",
       "       [30,  0,  0],\n",
       "       [48,  1,  1],\n",
       "       [40,  0,  1],\n",
       "       [48,  0,  1],\n",
       "       [33,  0,  1]])"
      ]
     },
     "execution_count": 24,
     "metadata": {},
     "output_type": "execute_result"
    }
   ],
   "source": [
    "X30 "
   ]
  },
  {
   "cell_type": "markdown",
   "metadata": {},
   "source": [
    "lets focus on the first column (age) and check its expected value : \n",
    "\n",
    "the expected age of the people who are at risk of dying after 30 days "
   ]
  },
  {
   "cell_type": "markdown",
   "metadata": {},
   "source": [
    "Expected value = sigma(sum) over values in R30 (value * proba of dying knowing at risk at 30th day )"
   ]
  },
  {
   "cell_type": "code",
   "execution_count": 28,
   "metadata": {},
   "outputs": [],
   "source": [
    "#get beta coefficients\n",
    "Beta = np.array(mycph_model.params_).reshape(-1,1)"
   ]
  },
  {
   "cell_type": "code",
   "execution_count": 31,
   "metadata": {},
   "outputs": [],
   "source": [
    "#get the expos * betas \n",
    "exp_X30_beta = np.exp(np.matmul(X30, Beta))\n"
   ]
  },
  {
   "cell_type": "code",
   "execution_count": 32,
   "metadata": {},
   "outputs": [],
   "source": [
    "#get the sums of expos betas \n",
    "sum_exp_X30_beta = np.sum(exp_X30_beta)"
   ]
  },
  {
   "cell_type": "code",
   "execution_count": 33,
   "metadata": {},
   "outputs": [],
   "source": [
    "#get the Cox probabilties of a person dying at day 30th \n",
    "probaCox = exp_X30_beta/sum_exp_X30_beta"
   ]
  },
  {
   "cell_type": "code",
   "execution_count": 37,
   "metadata": {},
   "outputs": [],
   "source": [
    "#get only age column (column 0)\n",
    "X30_age = X30[:,0].reshape(1,-1)\n"
   ]
  },
  {
   "cell_type": "code",
   "execution_count": 38,
   "metadata": {},
   "outputs": [
    {
     "name": "stdout",
     "output_type": "stream",
     "text": [
      "Expected age of patients in R30 = [[47.83197976]]\n"
     ]
    }
   ],
   "source": [
    "#compute expected age at R30\n",
    "expected_age_X30 = np.matmul(X30_age, probaCox)\n",
    "\n",
    "print('Expected age of patients in R30 = ' + str(expected_age_X30))    "
   ]
  },
  {
   "cell_type": "code",
   "execution_count": 41,
   "metadata": {},
   "outputs": [],
   "source": [
    "#substact expected age from observed age \n",
    "schoenfeldResiduals = X30_age - expected_age_X30\n",
    "\n"
   ]
  },
  {
   "cell_type": "markdown",
   "metadata": {},
   "source": [
    "the value of the schoenfeld residual for the covariate Age at day 30 is actually the mean of the schoenfeld residuals vector "
   ]
  },
  {
   "cell_type": "code",
   "execution_count": 42,
   "metadata": {},
   "outputs": [
    {
     "data": {
      "text/plain": [
       "-3.4694797614358395"
      ]
     },
     "execution_count": 42,
     "metadata": {},
     "output_type": "execute_result"
    }
   ],
   "source": [
    "mean_schoenfeldResiduals = np.mean(schoenfeldResiduals)\n",
    "mean_schoenfeldResiduals"
   ]
  },
  {
   "cell_type": "markdown",
   "metadata": {},
   "source": [
    "in practise we would have to do what we just did for each regression variable for each T__i where an event of interest occurs, and put the results in a schoenfeld residuals time series for each variable , but fortunately we got libraries that do the work for us"
   ]
  },
  {
   "cell_type": "markdown",
   "metadata": {},
   "source": [
    "also we often scale schoenfeld residuals using their variance"
   ]
  },
  {
   "cell_type": "markdown",
   "metadata": {},
   "source": [
    "### Checking Cox assumptions using schoenfeld residuals "
   ]
  },
  {
   "cell_type": "code",
   "execution_count": 43,
   "metadata": {},
   "outputs": [
    {
     "name": "stdout",
     "output_type": "stream",
     "text": [
      "covariate       AGE  PRIOR_SURGERY  TRANSPLANT_STATUS\n",
      "0          0.108016       0.238234          -2.080046\n",
      "1         -0.054060       0.109209          -1.038217\n",
      "2          0.096612       0.237691          -2.084436\n",
      "3          0.096612       0.237691          -2.084436\n",
      "4          0.134923       0.283896          -2.473656\n",
      "..              ...            ...                ...\n",
      "89         0.009017      -3.239803           1.182428\n",
      "92         0.031107      10.614332          -0.401928\n",
      "93         0.082979      11.219455          -0.771960\n",
      "94        -0.009399      -2.763064           1.602164\n",
      "97         0.154845      -1.657014           0.640058\n",
      "\n",
      "[75 rows x 3 columns]\n"
     ]
    }
   ],
   "source": [
    "scaled_schoenfeld_residuals = mycph_model.compute_residuals(training_dataframe= study_df,\n",
    "kind = 'scaled_schoenfeld')\n",
    "print(scaled_schoenfeld_residuals)"
   ]
  },
  {
   "cell_type": "code",
   "execution_count": 47,
   "metadata": {},
   "outputs": [
    {
     "data": {
      "image/png": "[encoded data removed]",
      "text/plain": [
       "<Figure size 640x480 with 1 Axes>"
      ]
     },
     "metadata": {},
     "output_type": "display_data"
    }
   ],
   "source": [
    "#lets plot the Age schoenfeld residuals \n",
    "plt.plot(scaled_schoenfeld_residuals.index, scaled_schoenfeld_residuals['AGE'])\n",
    "plt.title('Age Schoenfeld residuals')\n",
    "plt.show()"
   ]
  },
  {
   "cell_type": "markdown",
   "metadata": {},
   "source": [
    "### To check that there's no time based pattern: \n",
    " - plot the Ljung-Box and box pierce tests to see if we get anything more than white noise \n",
    "\n",
    "we will use the statsmodels library "
   ]
  },
  {
   "cell_type": "code",
   "execution_count": 48,
   "metadata": {},
   "outputs": [
    {
     "data": {
      "text/plain": [
       "(array([39.18080838]),\n",
       " array([0.50696947]),\n",
       " array([26.42444177]),\n",
       " array([0.95127985]))"
      ]
     },
     "execution_count": 48,
     "metadata": {},
     "output_type": "execute_result"
    }
   ],
   "source": [
    "import statsmodels.stats.diagnostic as diag \n",
    "\n",
    "diag.acorr_ljungbox(x= scaled_schoenfeld_residuals['AGE'], lags=[40],\n",
    "                    boxpierce = True , model_df = 0, period = None, return_df = None)\n",
    "\n"
   ]
  },
  {
   "cell_type": "markdown",
   "metadata": {},
   "source": [
    "We notice that both the p value for the ljungbox test (0.50696947) and box pierce test (0.95127985)\n",
    "are much greater than 0.05 , which supports our null hypothesis , we conclude that there s no time based pattern in the schoenfeld residuals for Age "
   ]
  },
  {
   "cell_type": "markdown",
   "metadata": {},
   "source": [
    "lets run the tests for the other variables : "
   ]
  },
  {
   "cell_type": "code",
   "execution_count": 49,
   "metadata": {},
   "outputs": [
    {
     "data": {
      "text/plain": [
       "(array([54.23449056]),\n",
       " array([0.06592408]),\n",
       " array([45.71670751]),\n",
       " array([0.24673926]))"
      ]
     },
     "execution_count": 49,
     "metadata": {},
     "output_type": "execute_result"
    }
   ],
   "source": [
    "diag.acorr_ljungbox(x= scaled_schoenfeld_residuals['PRIOR_SURGERY'], lags=[40],\n",
    "                    boxpierce = True , model_df = 0, period = None, return_df = None)"
   ]
  },
  {
   "cell_type": "code",
   "execution_count": 50,
   "metadata": {},
   "outputs": [
    {
     "data": {
      "text/plain": [
       "(array([24.68047734]),\n",
       " array([0.97266311]),\n",
       " array([15.81377997]),\n",
       " array([0.99978178]))"
      ]
     },
     "execution_count": 50,
     "metadata": {},
     "output_type": "execute_result"
    }
   ],
   "source": [
    "diag.acorr_ljungbox(x= scaled_schoenfeld_residuals['TRANSPLANT_STATUS'], lags=[40],\n",
    "                    boxpierce = True , model_df = 0, period = None, return_df = None)"
   ]
  },
  {
   "cell_type": "markdown",
   "metadata": {},
   "source": [
    "we notice that the p values for our 3 variables are greater than 0.05, so the schoenfeld residuals are not auto correlated "
   ]
  }
 ],
 "metadata": {
  "kernelspec": {
   "display_name": "base",
   "language": "python",
   "name": "python3"
  },
  "language_info": {
   "codemirror_mode": {
    "name": "ipython",
    "version": 3
   },
   "file_extension": ".py",
   "mimetype": "text/x-python",
   "name": "python",
   "nbconvert_exporter": "python",
   "pygments_lexer": "ipython3",
   "version": "3.10.9"
  },
  "orig_nbformat": 4
 },
 "nbformat": 4,
 "nbformat_minor": 2
}
